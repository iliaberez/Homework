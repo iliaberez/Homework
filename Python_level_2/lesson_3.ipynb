{
 "cells": [
  {
   "cell_type": "markdown",
   "metadata": {},
   "source": [
    "В диапазоне натуральных чисел от 2 до 99 определить, сколько из них кратны каждому из\n",
    "чисел в диапазоне от 2 до 9."
   ]
  },
  {
   "cell_type": "code",
   "execution_count": 11,
   "metadata": {},
   "outputs": [
    {
     "name": "stdout",
     "output_type": "stream",
     "text": [
      "Делитель: 2, количество кратных чисел 49\n",
      "Делитель: 3, количество кратных чисел 33\n",
      "Делитель: 4, количество кратных чисел 24\n",
      "Делитель: 5, количество кратных чисел 19\n",
      "Делитель: 6, количество кратных чисел 16\n",
      "Делитель: 7, количество кратных чисел 14\n",
      "Делитель: 8, количество кратных чисел 12\n",
      "Делитель: 9, количество кратных чисел 11\n"
     ]
    }
   ],
   "source": [
    "def check_float(num: int, divider: int) -> bool:\n",
    "    if num % divider == 0:\n",
    "        return True\n",
    "    return False\n",
    "\n",
    "divider_list = []\n",
    "for i in range(2, 10):\n",
    "    divider_list.append(i)\n",
    "\n",
    "result_list = []\n",
    "for divider in divider_list:\n",
    "    count_divider = 0\n",
    "    for i in range(2, 100):\n",
    "        if check_float(i, divider):\n",
    "            count_divider += 1\n",
    "    result_list.append((divider, count_divider))\n",
    "\n",
    "for item in result_list:\n",
    "    print(f'Делитель: {item[0]}, количество кратных чисел {item[1]}')"
   ]
  },
  {
   "cell_type": "markdown",
   "metadata": {},
   "source": [
    "Во втором массиве сохранить индексы четных элементов первого массива. Например, если\n",
    "дан массив со значениями 8, 3, 15, 6, 4, 2, то во второй массив надо заполнить значениями 1,\n",
    "4, 5, 6 (или 0, 3, 4, 5 - если индексация начинается с нуля), т.к. именно в этих позициях первого\n",
    "массива стоят четные числа."
   ]
  },
  {
   "cell_type": "code",
   "execution_count": 12,
   "metadata": {},
   "outputs": [
    {
     "name": "stdout",
     "output_type": "stream",
     "text": [
      "Сгенерированный массив : [89, 27, 81, 75, 52, 1, 76, 80, 21, 67, 46, 21, 79, 73, 10, 29, 54, 99, 27, 58, 2, 90, 40, 50, 42, 97, 21, 91, 25, 34, 71, 48, 86, 15, 77, 94, 20, 28, 37, 52, 54, 24, 14, 70, 72, 91, 40, 93, 47, 57, 39, 44, 53, 39, 78, 64, 39, 41, 66, 54, 40, 21, 70, 75, 68, 77, 58, 21, 0, 22, 91, 93, 84, 74, 17, 64, 25, 75, 17, 13, 27, 35, 37, 49, 62, 18, 43, 83, 21, 26, 91, 29, 31, 86, 40, 99, 22, 5, 81, 83]\n",
      "Индексы чётных чисел: [4, 6, 7, 10, 14, 16, 19, 20, 21, 22, 23, 24, 29, 31, 32, 35, 36, 37, 39, 40, 41, 42, 43, 44, 46, 51, 54, 55, 58, 59, 60, 62, 64, 66, 68, 69, 72, 73, 75, 84, 85, 89, 93, 94, 96]\n"
     ]
    }
   ],
   "source": [
    "import random\n",
    "\n",
    "\n",
    "list_num = []\n",
    "list_result = []\n",
    "for i in range(0, 100):\n",
    "    list_num.append(random.randint(0, 100))\n",
    "for x, item in enumerate(list_num):\n",
    "    if item % 2 == 0:\n",
    "        list_result.append(x)\n",
    "print(f'Сгенерированный массив : {list_num}')\n",
    "print(f'Индексы чётных чисел: {list_result}')"
   ]
  },
  {
   "cell_type": "markdown",
   "metadata": {},
   "source": [
    "В массиве случайных целых чисел поменять местами минимальный и максимальный\n",
    "элементы."
   ]
  },
  {
   "cell_type": "code",
   "execution_count": 13,
   "metadata": {},
   "outputs": [
    {
     "name": "stdout",
     "output_type": "stream",
     "text": [
      "Сгенерированный массив : [61, 32, 63, 9, 54, 56, 13, 31, 92, 20, 27, 80, 90, 91, 1, 45, 67, 97, 75, 74, 88]\n",
      "Изменённый массив : [61, 32, 63, 9, 54, 56, 13, 31, 92, 20, 27, 80, 90, 91, 97, 45, 67, 1, 75, 74, 88]\n",
      "Поменял местами min 1 индекс: 14 и max 97 индекс 17\n"
     ]
    }
   ],
   "source": [
    "list_num = []\n",
    "for i in range(0, 21):\n",
    "    list_num.append(random.randint(0, 100))\n",
    "max_num = max(list_num)\n",
    "min_num = min(list_num)\n",
    "print(f'Сгенерированный массив : {list_num}')\n",
    "index_max = list_num.index(max_num)\n",
    "index_min = list_num.index(min_num)\n",
    "list_num[index_max] = min_num\n",
    "list_num[index_min] = max_num\n",
    "print(f'Изменённый массив : {list_num}')\n",
    "print(f'Поменял местами min {min_num} индекс: {index_min} и max {max_num} индекс {index_max}')"
   ]
  },
  {
   "cell_type": "markdown",
   "metadata": {},
   "source": [
    "Определить, какое число в массиве встречается чаще всего."
   ]
  },
  {
   "cell_type": "code",
   "execution_count": 14,
   "metadata": {},
   "outputs": [
    {
     "name": "stdout",
     "output_type": "stream",
     "text": [
      "Сгенерированный массив: [1, 3, -4, -2, -2, -4, -5, -4, 5, 2, 3]\n",
      "1 Встречается 1\n",
      "2 Встречается 1\n",
      "3 Встречается 2\n",
      "5 Встречается 1\n",
      "-5 Встречается 1\n",
      "-4 Встречается 3\n",
      "-2 Встречается 2\n"
     ]
    }
   ],
   "source": [
    "list_num = []\n",
    "for i in range(0, 11):\n",
    "    list_num.append(random.randint(-5, 5))\n",
    "set_num = set(list_num)\n",
    "\n",
    "list_result = []\n",
    "for item in set_num:\n",
    "    count_num = 0\n",
    "    for num in list_num:\n",
    "        if num == item:\n",
    "            count_num += 1\n",
    "    list_result.append((item, count_num))\n",
    "print(f'Сгенерированный массив: {list_num}')\n",
    "for item in list_result:\n",
    "    print(f'{item[0]} Встречается {item[1]}')    \n",
    "\n"
   ]
  },
  {
   "cell_type": "markdown",
   "metadata": {},
   "source": [
    "В массиве найти максимальный отрицательный элемент. Вывести на экран его значение и\n",
    "позицию (индекс) в массиве."
   ]
  },
  {
   "cell_type": "code",
   "execution_count": 15,
   "metadata": {},
   "outputs": [
    {
     "name": "stdout",
     "output_type": "stream",
     "text": [
      "Сгенерированный массив: [-81, 47, -79, -80, -57, 72, -65, -85, -43, -96, -83]\n",
      "Максимальное отрицательное число -43 index 8\n"
     ]
    }
   ],
   "source": [
    "list_num = []\n",
    "for i in range(0, 11):\n",
    "    list_num.append(random.randint(-100, 100))\n",
    "\n",
    "max_num = min(list_num)\n",
    "max_index = None\n",
    "for i, num in enumerate(list_num):\n",
    "    if num < 0:\n",
    "        if max_num < num:\n",
    "            max_num = num\n",
    "            max_index = i\n",
    "\n",
    "print(f'Сгенерированный массив: {list_num}')\n",
    "print(f'Максимальное отрицательное число {max_num} index {max_index}')"
   ]
  },
  {
   "cell_type": "markdown",
   "metadata": {},
   "source": [
    "В одномерном массиве найти сумму элементов, находящихся между минимальным и\n",
    "максимальным элементами. Сами минимальный и максимальный элементы в сумму не\n",
    "включать."
   ]
  },
  {
   "cell_type": "code",
   "execution_count": 16,
   "metadata": {},
   "outputs": [
    {
     "name": "stdout",
     "output_type": "stream",
     "text": [
      "Сгенерированный массив: [38, 90, 100, 64, 58, 92, 83, 27, 34, 2, 89]\n",
      "Сумма чисел между 2 и 100 равна 358\n"
     ]
    }
   ],
   "source": [
    "def count_in_index(index1, index2, list_num):\n",
    "    count = 0\n",
    "    for i in range(index1+1, index2):\n",
    "        count += list_num[i]\n",
    "    return count\n",
    "\n",
    "list_num = []\n",
    "for i in range(0, 11):\n",
    "    list_num.append(random.randint(0, 100))\n",
    "\n",
    "max_num = max(list_num)\n",
    "max_index = list_num.index(max_num)\n",
    "min_num = min(list_num)\n",
    "min_index = list_num.index(min_num)\n",
    "\n",
    "result = None\n",
    "if max_index > min_index:\n",
    "    result = count_in_index(min_index, max_index, list_num)\n",
    "else:\n",
    "    result = count_in_index(max_index, min_index, list_num)\n",
    "\n",
    "print(f'Сгенерированный массив: {list_num}')\n",
    "print(f'Сумма чисел между {min_num} и {max_num} равна {result}')"
   ]
  },
  {
   "cell_type": "markdown",
   "metadata": {},
   "source": [
    "В одномерном массиве целых чисел определить два наименьших элемента. Они могут быть\n",
    "как равны между собой (оба являться минимальными), так и различаться."
   ]
  },
  {
   "cell_type": "code",
   "execution_count": 17,
   "metadata": {},
   "outputs": [
    {
     "name": "stdout",
     "output_type": "stream",
     "text": [
      "Сгенерированный массив: [7, 71, 74, 95, 84, 68, 34, 68, 35, 40, 53]\n",
      "Два наименьших элемента массива 7 и 34\n"
     ]
    }
   ],
   "source": [
    "list_num = []\n",
    "for i in range(0, 11):\n",
    "    list_num.append(random.randint(0, 100))\n",
    "min_num1 = min(list_num)\n",
    "\n",
    "temp_list = list_num.copy()\n",
    "temp_list.remove(min_num1)\n",
    "min_num2 = min(temp_list)\n",
    "\n",
    "print(f'Сгенерированный массив: {list_num}')\n",
    "print(f'Два наименьших элемента массива {min_num1} и {min_num2}')"
   ]
  },
  {
   "cell_type": "markdown",
   "metadata": {},
   "source": [
    "Матрица 5x4 заполняется вводом с клавиатуры кроме последних элементов строк. Программа\n",
    "должна вычислять сумму введенных элементов каждой строки и записывать ее в последнюю\n",
    "ячейку строки. В конце следует вывести полученную матрицу."
   ]
  },
  {
   "cell_type": "code",
   "execution_count": 18,
   "metadata": {},
   "outputs": [
    {
     "name": "stdout",
     "output_type": "stream",
     "text": [
      "Матрица:\n",
      "   4  14 -16 -15 -41 -54\n",
      " -38   1 -30 -19   6 -80\n",
      "  42  -6 -43  41 -28   6\n",
      " -11  32  15 -37   8   7\n",
      " -34 -28 -19  22 -34 -93\n"
     ]
    }
   ],
   "source": [
    "matrix = []\n",
    "for _ in range(0, 5):\n",
    "    temp_list = []\n",
    "    for _ in range(0, 5):\n",
    "        temp_list.append(random.randint(-50, 50))\n",
    "    matrix.append(temp_list)\n",
    "\n",
    "print('Матрица:')\n",
    "\n",
    "for line in matrix:\n",
    "    count = 0\n",
    "    for item in line:\n",
    "        count += item\n",
    "    line.append(count)\n",
    "\n",
    "for row in matrix:\n",
    "    temp_str = ''\n",
    "    for item in row:\n",
    "        temp_str += f'{item:4}'\n",
    "    print(temp_str)"
   ]
  },
  {
   "cell_type": "markdown",
   "metadata": {},
   "source": [
    "Найти максимальный элемент среди минимальных элементов столбцов матрицы."
   ]
  },
  {
   "cell_type": "code",
   "execution_count": 19,
   "metadata": {},
   "outputs": [
    {
     "name": "stdout",
     "output_type": "stream",
     "text": [
      "Матрица:\n",
      " -23  39  43  19 -38\n",
      "  17  -8  22 -48  29\n",
      " -27   6 -39 -21 -32\n",
      "  -1 -40  -6 -42  26\n",
      " -27  10  -9  29   2\n",
      "Список минимальных элементов столбцов [-27, -40, -39, -48, -38]\n",
      "Максимальный элемент среди минимальных -27\n"
     ]
    }
   ],
   "source": [
    "matrix = []\n",
    "for _ in range(0, 5):\n",
    "    temp_list = []\n",
    "    for _ in range(0, 5):\n",
    "        temp_list.append(random.randint(-50, 50))\n",
    "    matrix.append(temp_list)\n",
    "\n",
    "print('Матрица:')\n",
    "\n",
    "for row in matrix:\n",
    "    temp_str = ''\n",
    "    for item in row:\n",
    "        temp_str += f'{item:4}'\n",
    "    print(temp_str)\n",
    "\n",
    "list_min = []\n",
    "\n",
    "for column in list(zip(*matrix)):\n",
    "    list_min.append(min(column))\n",
    "\n",
    "print(f'Список минимальных элементов столбцов {list_min}')\n",
    "print(f'Максимальный элемент среди минимальных {max(list_min)}')"
   ]
  }
 ],
 "metadata": {
  "kernelspec": {
   "display_name": "Python 3",
   "language": "python",
   "name": "python3"
  },
  "language_info": {
   "codemirror_mode": {
    "name": "ipython",
    "version": 3
   },
   "file_extension": ".py",
   "mimetype": "text/x-python",
   "name": "python",
   "nbconvert_exporter": "python",
   "pygments_lexer": "ipython3",
   "version": "3.10.5"
  }
 },
 "nbformat": 4,
 "nbformat_minor": 2
}

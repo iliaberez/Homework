{
 "cells": [
  {
   "cell_type": "markdown",
   "metadata": {},
   "source": [
    "Найти сумму и произведение цифр трехзначного числа, которое вводит пользователь."
   ]
  },
  {
   "cell_type": "code",
   "execution_count": null,
   "metadata": {},
   "outputs": [],
   "source": [
    "line_str = input('Введите трёхзначное число ')\n",
    "\n",
    "a1 = int(line_str[0])\n",
    "a2 = int(line_str[1])\n",
    "a3 = int(line_str[2])\n",
    "\n",
    "sum_numbers = sum([a1, a2, a3])\n",
    "mult_numbers = a1*a2*a3\n",
    "print(f'Sum = {sum_numbers}')\n",
    "print(f'Mult = {mult_numbers}')"
   ]
  },
  {
   "cell_type": "markdown",
   "metadata": {},
   "source": [
    "Выполнить логические побитовые операции \"И\", \"ИЛИ\" и др. над числами 5 и 6. Выполнить\n",
    "над числом 5 побитовый сдвиг вправо и влево на два знака."
   ]
  },
  {
   "cell_type": "code",
   "execution_count": null,
   "metadata": {},
   "outputs": [],
   "source": [
    "five  = 5\n",
    "six = 6\n",
    "\n",
    "print(f'Побитовая операция and {five&six}')\n",
    "print(f'Побитовая операция or {five|six}')\n",
    "print(f'Побитовая операция xor {five^six}')\n",
    "print(f'Побитовый сдвиг вправо {5>>2}')\n",
    "print(f'Побитовый сдвиг влево {5<<2}')"
   ]
  },
  {
   "cell_type": "markdown",
   "metadata": {},
   "source": [
    "По введенным пользователем координатам двух точек вывести уравнение прямой вида\n",
    "y = kx + b , проходящей через эти точки."
   ]
  },
  {
   "cell_type": "code",
   "execution_count": null,
   "metadata": {},
   "outputs": [],
   "source": [
    "print(\"Координаты точки A(x1;y1):\")\n",
    "x1 = float(input(\"\\tx1 = \"))\n",
    "y1 = float(input(\"\\ty1 = \"))\n",
    " \n",
    "print(\"Координаты точки B(x2;y2):\")\n",
    "x2 = float(input(\"\\tx2 = \"))\n",
    "y2 = float(input(\"\\ty2 = \"))\n",
    " \n",
    "print(\"Уравнение прямой, проходящей через эти точки:\")\n",
    "k = (y1 - y2) / (x1 - x2)\n",
    "b = y2 - k*x2\n",
    "print(\" y = %.2f*x + %.2f\" % (k, b))"
   ]
  },
  {
   "cell_type": "markdown",
   "metadata": {},
   "source": [
    "Написать программу, которая генерирует в указанных пользователем границах\n",
    "● случайное целое число\n",
    "● случайное вещественное число\n",
    "● случайный символ\n",
    "Для каждого из трех случаев пользователь задает свои границы диапазона. Например, если\n",
    "надо получить случайный символ от 'a' до 'f', то вводятся эти символы. Программа должна\n",
    "вывести на экран любой символ алфавита от 'a' до 'f' включительно."
   ]
  },
  {
   "cell_type": "code",
   "execution_count": 3,
   "metadata": {},
   "outputs": [
    {
     "name": "stdout",
     "output_type": "stream",
     "text": [
      "Генерация целого числа из заданного диапозона\n",
      "190\n",
      "Генерация вещественного числа из заданного диапозона\n",
      "78.63225665088413\n",
      "Генерация буквы из заданного диапозона\n",
      "n\n"
     ]
    }
   ],
   "source": [
    "import random\n",
    "\n",
    "print('Генерация целого числа из заданного диапозона')\n",
    "x1 = int(input(\"Введите первую границу\"))\n",
    "y1 = int(input(\"Введите вторую границу\"))\n",
    "print(random.randint(x1,y1))\n",
    "\n",
    "print('Генерация вещественного числа из заданного диапозона')\n",
    "x1 = float(input(\"Введите первую границу\"))\n",
    "y1 = float(input(\"Введите вторую границу\"))\n",
    "print(random.uniform(x1,y1))\n",
    "\n",
    "print('Генерация буквы из заданного диапозона')\n",
    "x1 = input(\"Введите первую границу\")\n",
    "y1 = input(\"Введите вторую границу\")\n",
    "\n",
    "x1 = ord(x1)\n",
    "y1 = ord(y1)\n",
    "\n",
    "print(chr(random.randint(x1,y1)))\n"
   ]
  },
  {
   "cell_type": "markdown",
   "metadata": {},
   "source": [
    "Пользователь вводит две буквы. Определить, на каких местах алфавита они стоят, и сколько\n",
    "между ними находится букв."
   ]
  },
  {
   "cell_type": "code",
   "execution_count": 9,
   "metadata": {},
   "outputs": [
    {
     "name": "stdout",
     "output_type": "stream",
     "text": [
      "mno\n"
     ]
    }
   ],
   "source": [
    "import string\n",
    "string.ascii_letters\n",
    "\n",
    "temp1 = input('Введите первую букву')\n",
    "temp2 = input('Введите вторую букву')\n",
    "\n",
    "index_1 = string.ascii_letters.index(temp1)\n",
    "index_2 = string.ascii_letters.index(temp2)\n",
    "\n",
    "if index_1 < index_2:\n",
    "    print(string.ascii_letters[index_1:index_2+1])\n",
    "else:\n",
    "    print(string.ascii_letters[index_2:index_1+1])"
   ]
  },
  {
   "cell_type": "markdown",
   "metadata": {},
   "source": [
    "Пользователь вводит номер буквы в алфавите. Определить, какая это буква."
   ]
  },
  {
   "cell_type": "code",
   "execution_count": 13,
   "metadata": {},
   "outputs": [
    {
     "name": "stdout",
     "output_type": "stream",
     "text": [
      "n\n"
     ]
    }
   ],
   "source": [
    "import string\n",
    "string.ascii_letters\n",
    "\n",
    "temp1 = int(input('Введите номер буквы'))\n",
    "\n",
    "if temp1 > len(string.ascii_letters):\n",
    "    print('Такой буквы нет')\n",
    "else:\n",
    "    print(string.ascii_letters[temp1+1])"
   ]
  },
  {
   "cell_type": "markdown",
   "metadata": {},
   "source": [
    "По длинам трех отрезков, введенных пользователем, определить возможность\n",
    "существования треугольника, составленного из этих отрезков. Если такой треугольник\n",
    "существует, то определить, является ли он разносторонним, равнобедренным или\n",
    "равносторонним."
   ]
  },
  {
   "cell_type": "code",
   "execution_count": 17,
   "metadata": {},
   "outputs": [
    {
     "name": "stdout",
     "output_type": "stream",
     "text": [
      "Равносторонний треуголник\n"
     ]
    }
   ],
   "source": [
    "line_str = (input('Введите длины сторон треугольника через пробел')).split(' ')\n",
    "l1 = int(line_str[0])\n",
    "l2 = int(line_str[1])\n",
    "l3 = int(line_str[2])\n",
    "\n",
    "if l1 < l2+l3 and l2 < l1+l3 and l3 < l1+l2:\n",
    "    if l1 != l2 and l2 != l3 and l1 != l3:\n",
    "        print('Разносторонний треуголник')\n",
    "    else:\n",
    "        if l1 == l2 and l2 == l3 and l1 == l3:\n",
    "            print('Равносторонний треуголник')\n",
    "        elif l1 == l2 or l2 == l3 or l1 == l3:\n",
    "            print('Равнобедренный треуголник')        \n",
    "else:\n",
    "        print('Треугольник не существует.')"
   ]
  },
  {
   "cell_type": "markdown",
   "metadata": {},
   "source": [
    "Определить, является ли год, который ввел пользователем, високосным или не високосным."
   ]
  },
  {
   "cell_type": "code",
   "execution_count": 19,
   "metadata": {},
   "outputs": [
    {
     "name": "stdout",
     "output_type": "stream",
     "text": [
      "Год високосный.\n"
     ]
    }
   ],
   "source": [
    "year = int(input('Введите год: '))\n",
    "\n",
    "if (year % 4 == 0 and year % 100 != 0) or year % 400 == 0:\n",
    "    print('Год високосный.')\n",
    "else:\n",
    "    print('Год не високосный.')"
   ]
  },
  {
   "cell_type": "markdown",
   "metadata": {},
   "source": [
    "Вводятся три разных числа. Найти, какое из них является средним (больше одного, но меньше\n",
    "другого)."
   ]
  },
  {
   "cell_type": "code",
   "execution_count": 30,
   "metadata": {},
   "outputs": [
    {
     "name": "stdout",
     "output_type": "stream",
     "text": [
      "50\n",
      "50\n"
     ]
    }
   ],
   "source": [
    "line_str = (input('Введите 3 числа')).split(' ')\n",
    "num1 = int(line_str[0])\n",
    "num2 = int(line_str[1])\n",
    "num3 = int(line_str[2])\n",
    "\n",
    "if (num1 > num2 and num1 < num3) or (num1 > num3 and num1 < num2):\n",
    "    print(num1)\n",
    "if (num2 > num1 and num2 < num3) or (num2 > num3 and num2 < num1):\n",
    "    print(num2)\n",
    "if (num3 > num1 and num3 < num2) or (num3 > num2 and num3 < num1):\n",
    "    print(num3)\n",
    "\n",
    "temp = [num1, num2, num3]\n",
    "temp.sort()\n",
    "print(temp[1])"
   ]
  }
 ],
 "metadata": {
  "kernelspec": {
   "display_name": "Python 3",
   "language": "python",
   "name": "python3"
  },
  "language_info": {
   "codemirror_mode": {
    "name": "ipython",
    "version": 3
   },
   "file_extension": ".py",
   "mimetype": "text/x-python",
   "name": "python",
   "nbconvert_exporter": "python",
   "pygments_lexer": "ipython3",
   "version": "3.10.5"
  }
 },
 "nbformat": 4,
 "nbformat_minor": 2
}

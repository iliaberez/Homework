{
 "cells": [
  {
   "metadata": {},
   "cell_type": "markdown",
   "source": [
    "Подсчитать, сколько было выделено памяти под переменные в ранее разработанных\n",
    "программах в рамках первых трех уроков. Проанализировать результат и определить\n",
    "программы с наиболее эффективным использованием памяти.\n",
    "\n",
    "Примечание: Для анализа возьмите любые 1-3 ваших программы или несколько вариантов кода для\n",
    "одной и той же задачи. Результаты анализа вставьте в виде комментариев к коду. Также укажите в\n",
    "комментариях версию Python и разрядность вашей ОС.\n",
    "\n",
    "Python 3.10, Windows 10 64-bit"
   ],
   "id": "99f032c5eb10f1bc"
  },
  {
   "cell_type": "code",
   "id": "initial_id",
   "metadata": {
    "collapsed": true,
    "ExecuteTime": {
     "end_time": "2024-05-13T14:37:42.238911Z",
     "start_time": "2024-05-13T14:37:42.218670Z"
    }
   },
   "source": [
    "import sys\n",
    "import random\n",
    "\n",
    "count_memory = 0\n",
    "\n",
    "def count_in_index(index1, index2, list_num, count_memory):\n",
    "    count = 0\n",
    "    count_memory += sys.getrefcount(index1)\n",
    "    count_memory += sys.getrefcount(index2)\n",
    "    count_memory += sys.getrefcount(list_num)\n",
    "    for i in range(index1+1, index2):\n",
    "        count += list_num[i]\n",
    "    count_memory += sys.getrefcount(count)\n",
    "    return count\n",
    "\n",
    "count_memory += sys.getrefcount(count_in_index)\n",
    "\n",
    "list_num = []\n",
    "for i in range(0, 11):\n",
    "    list_num.append(random.randint(0, 100))\n",
    "count_memory += sys.getrefcount(list_num)\n",
    "\n",
    "max_num = max(list_num)\n",
    "max_index = list_num.index(max_num)\n",
    "min_num = min(list_num)\n",
    "min_index = list_num.index(min_num)\n",
    "count_memory += sys.getrefcount(max_num)\n",
    "count_memory += sys.getrefcount(max_index)\n",
    "count_memory += sys.getrefcount(min_num)\n",
    "count_memory += sys.getrefcount(min_index)\n",
    "\n",
    "result = None\n",
    "if max_index > min_index:\n",
    "    count_memory += sys.getrefcount(result)\n",
    "    result = count_in_index(min_index, max_index, list_num, count_memory)\n",
    "else:\n",
    "    result = count_in_index(max_index, min_index, list_num, count_memory)\n",
    "count_memory += sys.getrefcount(result)\n",
    "\n",
    "print(f'Сгенерированный массив: {list_num}')\n",
    "print(f'Сумма чисел между {min_num} и {max_num} равна {result}')\n",
    "print(f'Память {count_memory}')"
   ],
   "outputs": [
    {
     "name": "stdout",
     "output_type": "stream",
     "text": [
      "Сгенерированный массив: [8, 6, 34, 55, 18, 43, 20, 2, 81, 30, 24]\n",
      "Сумма чисел между 2 и 81 равна 0\n",
      "Память 39679\n"
     ]
    }
   ],
   "execution_count": 9
  },
  {
   "metadata": {
    "ExecuteTime": {
     "end_time": "2024-05-13T14:37:39.118837Z",
     "start_time": "2024-05-13T14:37:39.093402Z"
    }
   },
   "cell_type": "code",
   "source": [
    "count_memory = 0\n",
    "matrix = []\n",
    "for _ in range(0, 5):\n",
    "    temp_list = []\n",
    "    count_memory += sys.getrefcount(temp_list)\n",
    "    for _ in range(0, 5):\n",
    "        temp_list.append(random.randint(-50, 50))\n",
    "    matrix.append(temp_list)\n",
    "count_memory += sys.getrefcount(matrix)\n",
    "print('Матрица:')\n",
    "\n",
    "for row in matrix:\n",
    "    temp_str = ''\n",
    "    count_memory += sys.getrefcount(row)\n",
    "    for item in row:\n",
    "        temp_str += f'{item:4}'\n",
    "        count_memory += sys.getrefcount(item)\n",
    "    count_memory += sys.getrefcount(temp_str)\n",
    "    print(temp_str)\n",
    "\n",
    "list_min = []\n",
    "\n",
    "for column in list(zip(*matrix)):\n",
    "    list_min.append(min(column))\n",
    "    count_memory += sys.getrefcount(column)\n",
    "count_memory += sys.getrefcount(list_min)\n",
    "\n",
    "print(f'Список минимальных элементов столбцов {list_min}')\n",
    "print(f'Максимальный элемент среди минимальных {max(list_min)}')\n",
    "print(f'Память {count_memory}')"
   ],
   "id": "6403086e9f95de24",
   "outputs": [
    {
     "name": "stdout",
     "output_type": "stream",
     "text": [
      "Матрица:\n",
      "  27   0  49  41   4\n",
      "  20 -49 -31 -26  34\n",
      " -18 -10  37  -7 -48\n",
      "   1 -10 -20 -33 -15\n",
      " -23 -10 -36  21   0\n",
      "Список минимальных элементов столбцов [-23, -49, -36, -33, -48]\n",
      "Максимальный элемент среди минимальных -23\n",
      "Память 14423\n"
     ]
    }
   ],
   "execution_count": 8
  },
  {
   "metadata": {},
   "cell_type": "code",
   "outputs": [],
   "execution_count": null,
   "source": "",
   "id": "ae2e81d4892448c3"
  }
 ],
 "metadata": {
  "kernelspec": {
   "display_name": "Python 3",
   "language": "python",
   "name": "python3"
  },
  "language_info": {
   "codemirror_mode": {
    "name": "ipython",
    "version": 2
   },
   "file_extension": ".py",
   "mimetype": "text/x-python",
   "name": "python",
   "nbconvert_exporter": "python",
   "pygments_lexer": "ipython2",
   "version": "2.7.6"
  }
 },
 "nbformat": 4,
 "nbformat_minor": 5
}

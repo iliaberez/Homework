{
 "cells": [
  {
   "metadata": {},
   "cell_type": "markdown",
   "source": [
    "Подсчитать, сколько было выделено памяти под переменные в ранее разработанных\n",
    "программах в рамках первых трех уроков. Проанализировать результат и определить\n",
    "программы с наиболее эффективным использованием памяти.\n",
    "\n",
    "Примечание: Для анализа возьмите любые 1-3 ваших программы или несколько вариантов кода для\n",
    "одной и той же задачи. Результаты анализа вставьте в виде комментариев к коду. Также укажите в\n",
    "комментариях версию Python и разрядность вашей ОС.\n",
    "\n",
    "Python 3.10, Windows 10 64-bit"
   ],
   "id": "99f032c5eb10f1bc"
  },
  {
   "cell_type": "code",
   "id": "initial_id",
   "metadata": {
    "collapsed": true,
    "ExecuteTime": {
     "end_time": "2024-05-13T14:51:12.026874Z",
     "start_time": "2024-05-13T14:51:11.998162Z"
    }
   },
   "source": [
    "import sys\n",
    "import random\n",
    "\n",
    "count_memory = 0\n",
    "\n",
    "def count_in_index(index1, index2, list_num, count_memory):\n",
    "    count = 0\n",
    "    count_memory += sys.getsizeof(index1)\n",
    "    count_memory += sys.getsizeof(index2)\n",
    "    count_memory += sys.getsizeof(list_num)\n",
    "    for i in range(index1+1, index2):\n",
    "        count += list_num[i]\n",
    "    count_memory += sys.getsizeof(count)\n",
    "    return count\n",
    "\n",
    "count_memory += sys.getsizeof(count_in_index)\n",
    "\n",
    "list_num = []\n",
    "for i in range(0, 11):\n",
    "    list_num.append(random.randint(0, 100))\n",
    "count_memory += sys.getsizeof(list_num)\n",
    "\n",
    "max_num = max(list_num)\n",
    "max_index = list_num.index(max_num)\n",
    "min_num = min(list_num)\n",
    "min_index = list_num.index(min_num)\n",
    "count_memory += sys.getsizeof(max_num)\n",
    "count_memory += sys.getsizeof(max_index)\n",
    "count_memory += sys.getsizeof(min_num)\n",
    "count_memory += sys.getsizeof(min_index)\n",
    "\n",
    "result = None\n",
    "if max_index > min_index:\n",
    "    count_memory += sys.getsizeof(result)\n",
    "    result = count_in_index(min_index, max_index, list_num, count_memory)\n",
    "else:\n",
    "    result = count_in_index(max_index, min_index, list_num, count_memory)\n",
    "count_memory += sys.getsizeof(result)\n",
    "\n",
    "print(f'Сгенерированный массив: {list_num}')\n",
    "print(f'Сумма чисел между {min_num} и {max_num} равна {result}')\n",
    "print(f'Память {count_memory}')"
   ],
   "outputs": [
    {
     "name": "stdout",
     "output_type": "stream",
     "text": [
      "Сгенерированный массив: [4, 71, 69, 49, 59, 45, 97, 91, 50, 80, 6]\n",
      "Сумма чисел между 4 и 97 равна 293\n",
      "Память 480\n"
     ]
    }
   ],
   "execution_count": 18
  },
  {
   "metadata": {
    "ExecuteTime": {
     "end_time": "2024-05-13T14:51:08.541675Z",
     "start_time": "2024-05-13T14:51:08.511616Z"
    }
   },
   "cell_type": "code",
   "source": [
    "count_memory = 0\n",
    "matrix = []\n",
    "for _ in range(0, 5):\n",
    "    temp_list = []\n",
    "    for _ in range(0, 5):\n",
    "        temp_list.append(random.randint(-50, 50))\n",
    "    matrix.append(temp_list)\n",
    "    count_memory += sys.getsizeof(temp_list)\n",
    "count_memory += sys.getsizeof(matrix)\n",
    "print('Матрица:')\n",
    "\n",
    "for row in matrix:\n",
    "    temp_str = ''\n",
    "    count_memory += sys.getsizeof(row)\n",
    "    for item in row:\n",
    "        temp_str += f'{item:4}'\n",
    "        count_memory += sys.getsizeof(item)\n",
    "    count_memory += sys.getsizeof(temp_str)\n",
    "    print(temp_str)\n",
    "\n",
    "list_min = []\n",
    "\n",
    "for column in list(zip(*matrix)):\n",
    "    list_min.append(min(column))\n",
    "    count_memory += sys.getsizeof(column)\n",
    "count_memory += sys.getsizeof(list_min)\n",
    "\n",
    "print(f'Список минимальных элементов столбцов {list_min}')\n",
    "print(f'Максимальный элемент среди минимальных {max(list_min)}')\n",
    "print(f'Память {count_memory}')"
   ],
   "id": "6403086e9f95de24",
   "outputs": [
    {
     "name": "stdout",
     "output_type": "stream",
     "text": [
      "Матрица:\n",
      " -29  16  48 -28 -25\n",
      " -14  30 -25   4  25\n",
      "  50  10   6 -28   7\n",
      " -47 -43 -38 -46 -31\n",
      " -37  42 -44  16  35\n",
      "Список минимальных элементов столбцов [-47, -43, -44, -46, -31]\n",
      "Максимальный элемент среди минимальных -31\n",
      "Память 2885\n"
     ]
    }
   ],
   "execution_count": 17
  },
  {
   "metadata": {},
   "cell_type": "code",
   "outputs": [],
   "execution_count": null,
   "source": "",
   "id": "f332e42b60ef4768"
  }
 ],
 "metadata": {
  "kernelspec": {
   "display_name": "Python 3",
   "language": "python",
   "name": "python3"
  },
  "language_info": {
   "codemirror_mode": {
    "name": "ipython",
    "version": 2
   },
   "file_extension": ".py",
   "mimetype": "text/x-python",
   "name": "python",
   "nbconvert_exporter": "python",
   "pygments_lexer": "ipython2",
   "version": "2.7.6"
  }
 },
 "nbformat": 4,
 "nbformat_minor": 5
}

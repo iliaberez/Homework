{
 "cells": [
  {
   "metadata": {},
   "cell_type": "markdown",
   "source": [
    "Пользователь вводит данные о количестве предприятий, их наименования и прибыль за 4\n",
    "квартала (т.е. 4 отдельных числа) для каждого предприятия.. Программа должна определить\n",
    "среднюю прибыль (за год для всех предприятий) и вывести наименования предприятий, чья\n",
    "прибыль выше среднего и отдельно вывести наименования предприятий, чья прибыль ниже\n",
    "среднего."
   ],
   "id": "f214be1683dfaa8e"
  },
  {
   "cell_type": "code",
   "id": "initial_id",
   "metadata": {
    "collapsed": true,
    "ExecuteTime": {
     "end_time": "2024-05-13T13:21:56.760818Z",
     "start_time": "2024-05-13T13:21:56.730657Z"
    }
   },
   "source": [
    "import random\n",
    "from dataclasses import dataclass, field\n",
    "\n",
    "\n",
    "@dataclass\n",
    "class Company:\n",
    "    name: str   \n",
    "    average_profit: int = 0\n",
    "    \n",
    "    @staticmethod\n",
    "    def write_companys():\n",
    "        list_company = []\n",
    "        average_profit = 0\n",
    "        while True:\n",
    "            name_company = input('Введите название компании, для прекращения ввода информации о компаниях ведите 0: ')\n",
    "            if name_company == '0' and list_company:\n",
    "                average_profit /= list_company.count()\n",
    "                return list_company, average_profit\n",
    "            elif name_company == '0' and list_company.count() <= 0:\n",
    "                print('Вы не ввели ни одну компанию')\n",
    "            new_company = Company(name_company)\n",
    "            profit_in_quarter = []\n",
    "            for i in range(0, 4):\n",
    "                profit_in_quarter.append(int(input(f'Введите доход за {i+1} квартал: ')))\n",
    "            average_profit_company = sum(profit_in_quarter) / len(profit_in_quarter)\n",
    "            average_profit += average_profit_company\n",
    "            new_company.average_profit = average_profit_company\n",
    "            list_company.append(new_company)\n",
    "            \n",
    "    @staticmethod\n",
    "    def generate_companys(n = 10):\n",
    "        list_company = []\n",
    "        average_profit = 0\n",
    "        for _ in range(0, n):\n",
    "            new_company = Company(f'company_' + str(random.randint(0,100)))\n",
    "            profit_in_quarter = []\n",
    "            for i in range(0, 4):\n",
    "                profit_in_quarter.append(random.randint(0, 5000000))\n",
    "            average_profit_company = sum(profit_in_quarter) / len(profit_in_quarter)\n",
    "            average_profit += average_profit_company\n",
    "            new_company.average_profit = average_profit_company\n",
    "            list_company.append(new_company)\n",
    "        average_profit /= len(list_company)\n",
    "        return list_company, average_profit\n",
    "            \n",
    "            \n",
    "    @staticmethod\n",
    "    def find_company_above_and_less_average(list_company, average_profit):\n",
    "        above_average_company = []\n",
    "        less_average_company = []\n",
    "        for item in list_company:\n",
    "            if item.average_profit < average_profit:\n",
    "                less_average_company.append(item)\n",
    "            else:\n",
    "                above_average_company.append(item)\n",
    "        print(f'Срденяя прибыль по всем компаниям {average_profit}')\n",
    "        print(f'Компании выше среднего: ')\n",
    "        for item in above_average_company:\n",
    "            print(f'{item.name} : {item.average_profit}')\n",
    "        print(f'Компании ниже среднего: ')\n",
    "        for item in less_average_company:\n",
    "            print(f'{item.name} : {item.average_profit}')\n",
    "        \n",
    "    \n",
    "    #list_company, average_profit = write_companys()\n",
    "    list_company, average_profit = generate_companys(n = 20)\n",
    "    find_company_above_and_less_average(list_company, average_profit)\n",
    "    \n",
    "        "
   ],
   "outputs": [
    {
     "name": "stdout",
     "output_type": "stream",
     "text": [
      "Срденяя прибыль по всем компаниям 2353149.65\n",
      "Компании выше среднего: \n",
      "company_13 : 2720517.0\n",
      "company_6 : 2416031.25\n",
      "company_74 : 2493097.25\n",
      "company_38 : 2644508.0\n",
      "company_8 : 2712414.75\n",
      "company_44 : 2511279.75\n",
      "company_29 : 4098054.75\n",
      "company_15 : 2956899.75\n",
      "company_6 : 2939757.0\n",
      "company_74 : 2429104.5\n",
      "company_61 : 2486720.0\n",
      "company_57 : 2789125.75\n",
      "company_35 : 2725407.75\n",
      "company_19 : 3152107.0\n",
      "Компании ниже среднего: \n",
      "company_68 : 1626166.25\n",
      "company_72 : 1703417.0\n",
      "company_95 : 1493838.0\n",
      "company_20 : 1183812.0\n",
      "company_9 : 676666.75\n",
      "company_19 : 1304068.5\n"
     ]
    }
   ],
   "execution_count": 22
  },
  {
   "metadata": {},
   "cell_type": "markdown",
   "source": [
    "Написать программу сложения и умножения двух шестнадцатеричных чисел. При этом каждое\n",
    "число представляется как массив, элементы которого это цифры числа.\n",
    "Например, пользователь ввёл A2 и C4F. Сохранить их как [‘A’, ‘2’] и [‘C’, ‘4’, ‘F’] соответственно.\n",
    "Сумма чисел из примера: [‘C’, ‘F’, ‘1’], произведение - [‘7’, ‘C’, ‘9’, ‘F’, ‘E’]."
   ],
   "id": "9262cef3d8b63701"
  },
  {
   "metadata": {
    "ExecuteTime": {
     "end_time": "2024-05-13T13:57:07.945274Z",
     "start_time": "2024-05-13T13:57:07.910763Z"
    }
   },
   "cell_type": "code",
   "source": [
    "import collections\n",
    "\n",
    "dict_hex = {\n",
    "    '1': 1,\n",
    "    '2': 2,\n",
    "    '3': 3,\n",
    "    '4': 4,\n",
    "    '5': 5,\n",
    "    '6': 6,\n",
    "    '7': 7,\n",
    "    '8': 8,\n",
    "    '9': 9,\n",
    "    'A': 10,\n",
    "    'B': 11,\n",
    "    'C': 12,\n",
    "    'D': 13,\n",
    "    'E': 14,\n",
    "    'F': 15,\n",
    "}\n",
    "\n",
    "def to_decimal(num):\n",
    "    result = 0\n",
    "    for i in range(0, len(num)):\n",
    "        temp = dict_hex[num.pop()]\n",
    "        result += temp*16**i\n",
    "    return result\n",
    "\n",
    "def to_hex(num):\n",
    "    result = collections.deque([])\n",
    "    while num > 0:\n",
    "        num, reminder = num // 16, num % 16\n",
    "        for key, value in dict_hex.items():\n",
    "            if value == reminder:\n",
    "                reminder = key\n",
    "        result.appendleft(reminder)\n",
    "    return result\n",
    "\n",
    "def sun_and_mult_hex(num1, num2):\n",
    "    num1_deq = collections.deque(num1)\n",
    "    num2_deq = collections.deque(num2)\n",
    "    \n",
    "    dec1 = to_decimal(num1_deq)\n",
    "    dec2 = to_decimal(num2_deq)\n",
    "    \n",
    "    print(f'{num1} + {num2}: {to_hex(dec1 + dec2)}')\n",
    "    print(f'{num1} * {num2}: {to_hex(dec1 * dec2)}')\n",
    "    \n",
    "sun_and_mult_hex(['A', '2'],['C', '4', 'F'])"
   ],
   "id": "d9aa2bad0feb8006",
   "outputs": [
    {
     "name": "stdout",
     "output_type": "stream",
     "text": [
      "['A', '2'] + ['C', '4', 'F']: deque(['C', 'F', '1'])\n",
      "['A', '2'] * ['C', '4', 'F']: deque(['7', 'C', '9', 'F', 'E'])\n"
     ]
    }
   ],
   "execution_count": 36
  }
 ],
 "metadata": {
  "kernelspec": {
   "display_name": "Python 3",
   "language": "python",
   "name": "python3"
  },
  "language_info": {
   "codemirror_mode": {
    "name": "ipython",
    "version": 2
   },
   "file_extension": ".py",
   "mimetype": "text/x-python",
   "name": "python",
   "nbconvert_exporter": "python",
   "pygments_lexer": "ipython2",
   "version": "2.7.6"
  }
 },
 "nbformat": 4,
 "nbformat_minor": 5
}

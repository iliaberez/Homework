{
 "cells": [
  {
   "metadata": {},
   "cell_type": "markdown",
   "source": [
    "Определение количества различных подстрок с использованием хеш-функции. Пусть\n",
    "дана строка S длиной N, состоящая только из маленьких латинских букв. Требуется найти\n",
    "количество различных подстрок в этой строке. papa = [p, a, pa, ap, pap, apa]"
   ],
   "id": "816851bef1a74858"
  },
  {
   "cell_type": "code",
   "id": "initial_id",
   "metadata": {
    "collapsed": true,
    "ExecuteTime": {
     "end_time": "2024-05-16T13:54:15.184602Z",
     "start_time": "2024-05-16T13:54:15.164506Z"
    }
   },
   "source": [
    "import hashlib\n",
    "\n",
    "#s = input()\n",
    "#s = 'papa'\n",
    "s = 'papap'\n",
    "n = len(s)\n",
    "list_hesh = []\n",
    "list_str= []\n",
    "step = 1\n",
    "list_step = range(step, n)\n",
    "\n",
    "def find_all_substring(step, list_hesh):\n",
    "    cur_step = 0\n",
    "    while cur_step + step <= len(s):\n",
    "        temp_str = s[cur_step:cur_step + step]\n",
    "        temp = hashlib.sha1(bytes(temp_str.encode( 'utf-8' ))).hexdigest()\n",
    "        if not temp in list_hesh:\n",
    "            list_str.append(temp_str)\n",
    "            list_hesh.append(temp)\n",
    "        cur_step += 1\n",
    "        \n",
    "for step in list_step:\n",
    "    find_all_substring(step, list_hesh)\n",
    "print(s)\n",
    "print(list_str)\n",
    "print(list_hesh)\n",
    "    "
   ],
   "outputs": [
    {
     "name": "stdout",
     "output_type": "stream",
     "text": [
      "papap\n",
      "['p', 'a', 'pa', 'ap', 'pap', 'apa', 'papa', 'apap']\n",
      "['516b9783fca517eecbd1d064da2d165310b19759', '86f7e437faa5a7fce15d1ddcb9eaeaea377667b8', '379fc0d5299a71ac0f171fbb5afb262829b4e765', 'ac78b022715c5b8357b4dca8045e8463b4de2124', '627a19572de5279b23ee9767fc5cf4b270625ac6', '313212a1870215e863a9da1859fbaa6e53f50670', 'f722f20fc568981ad1702f8075048e08a766bfa0', '274a60ddea50b384b0f500017c0d161d1a93981b']\n"
     ]
    }
   ],
   "execution_count": 2
  },
  {
   "metadata": {},
   "cell_type": "markdown",
   "source": "Закодируйте любую строку из трех слов по алгоритму Хаффмана.",
   "id": "ac878ff0047d15f9"
  },
  {
   "metadata": {
    "ExecuteTime": {
     "end_time": "2024-05-16T14:15:41.128322Z",
     "start_time": "2024-05-16T14:15:41.101470Z"
    }
   },
   "cell_type": "code",
   "source": [
    "from collections import Counter, deque\n",
    "\n",
    "class Node:\n",
    "    def __init__ (self, freq=None, letter=None, left=None, right=None):\n",
    "        self.freq = freq\n",
    "        self.letter = letter\n",
    "        self.left = left\n",
    "        self.right = right     \n",
    "            \n",
    "def search(node, path=''):\n",
    "    if node.letter is not None:\n",
    "        node.freq = 0\n",
    "        return node.letter, path\n",
    "    if node.right is not None and node.right.freq != 0:\n",
    "        spam = search(node.right, path=f'{path}1')\n",
    "        if node.right.freq == 0 and node.left.freq == 0:\n",
    "            node.freq = 0\n",
    "        return spam\n",
    "    if node.left is not None and node.left.freq != 0:\n",
    "        spam = search(node.left, path=f'{path}0')\n",
    "        if node.right.freq == 0 and node.left.freq == 0:\n",
    "            node.freq = 0\n",
    "        return spam\n",
    "    \n",
    "#s = input()\n",
    "s = 'beep boop boom!'\n",
    "\n",
    "s_dict = {}\n",
    "        \n",
    "for char_item, freq in Counter(s).items():\n",
    "    s_dict[char_item] = freq\n",
    "    \n",
    "node_list = deque([Node(s_dict[i], i) for i in s_dict])\n",
    "\n",
    "for i in range(len(s_dict)-1):\n",
    "    node_list = deque(sorted(node_list, key=lambda node: node.freq))\n",
    "    first_el = node_list.popleft()\n",
    "    second_el = node_list.popleft()\n",
    "    new_node = Node(first_el.freq + second_el.freq, left=first_el, right=second_el)\n",
    "    node_list.appendleft(new_node)\n",
    "    \n",
    "tree = node_list[0]\n",
    "table = {}\n",
    "\n",
    "for _ in range(len(s_dict)):\n",
    "    k = search(tree)\n",
    "    table[k[0]] = k[1]\n",
    "\n",
    "print(f'Оригинальная строка:\\n{s}')\n",
    "\n",
    "print('Таблица:')\n",
    "for char, code in table.items():\n",
    "    print(f'{char} : {code}')\n",
    "    \n",
    "print('Кодированная строка:')\n",
    "for char in s:\n",
    "    print(table[char], end='')"
   ],
   "id": "7ad57316c8feabb5",
   "outputs": [
    {
     "name": "stdout",
     "output_type": "stream",
     "text": [
      "Оригинальная строка:\n",
      "beep boop boom!\n",
      "Таблица:\n",
      "o : 11\n",
      "e : 101\n",
      "! : 1001\n",
      "m : 1000\n",
      "  : 011\n",
      "p : 010\n",
      "b : 00\n",
      "Кодированная строка:\n",
      "0010110101001100111101001100111110001001"
     ]
    }
   ],
   "execution_count": 17
  },
  {
   "metadata": {},
   "cell_type": "code",
   "outputs": [],
   "execution_count": null,
   "source": "",
   "id": "1b91c0bace054210"
  }
 ],
 "metadata": {
  "kernelspec": {
   "display_name": "Python 3",
   "language": "python",
   "name": "python3"
  },
  "language_info": {
   "codemirror_mode": {
    "name": "ipython",
    "version": 2
   },
   "file_extension": ".py",
   "mimetype": "text/x-python",
   "name": "python",
   "nbconvert_exporter": "python",
   "pygments_lexer": "ipython2",
   "version": "2.7.6"
  }
 },
 "nbformat": 4,
 "nbformat_minor": 5
}

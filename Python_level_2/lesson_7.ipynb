{
 "cells": [
  {
   "metadata": {
    "ExecuteTime": {
     "end_time": "2024-05-14T14:02:46.612558Z",
     "start_time": "2024-05-14T14:02:46.584246Z"
    }
   },
   "cell_type": "code",
   "source": [
    "import random\n",
    "\n",
    "def sort_decorator(func):\n",
    "    def wrapper(*args, **kwargs):\n",
    "        print('Исходный массив: ')\n",
    "        print(*args)\n",
    "        result = func(*args, **kwargs)\n",
    "        print('Отсортированный массив: ')\n",
    "        print(result)\n",
    "    return wrapper\n",
    "\n",
    "def gen_random_list(start, end, count) -> list:\n",
    "    result_list = []\n",
    "    for _ in range(count):\n",
    "        result_list.append(random.randint(start, end))\n",
    "    return result_list"
   ],
   "id": "7cc669546cd28d39",
   "outputs": [],
   "execution_count": 4
  },
  {
   "metadata": {},
   "cell_type": "markdown",
   "source": [
    "Отсортируйте по убыванию методом пузырька одномерный целочисленный массив, заданный\n",
    "случайными числами на промежутке [-100; 100). Выведите на экран исходный и\n",
    "отсортированный массивы. Сортировка должна быть реализована в виде функции. По\n",
    "возможности доработайте алгоритм (сделайте его умнее)."
   ],
   "id": "f2c9b011d04572d3"
  },
  {
   "cell_type": "code",
   "id": "initial_id",
   "metadata": {
    "collapsed": true,
    "ExecuteTime": {
     "end_time": "2024-05-14T14:02:46.723681Z",
     "start_time": "2024-05-14T14:02:46.705385Z"
    }
   },
   "source": [
    "@sort_decorator\n",
    "def buble_sort(list_num):\n",
    "    n = 1\n",
    "    while n < len(list_num):\n",
    "        check_sort = True\n",
    "        for i in range(len(list_num)-n):\n",
    "            if list_num[i] > list_num[i+1]:\n",
    "                list_num[i],list_num[i+1] = list_num[i+1],list_num[i]\n",
    "                check_sort = False\n",
    "        if check_sort:\n",
    "            break\n",
    "        n += 1\n",
    "    return list_num\n",
    "\n",
    "list_num = gen_random_list(-100, 100, 50)\n",
    "buble_sort(list_num)"
   ],
   "outputs": [
    {
     "name": "stdout",
     "output_type": "stream",
     "text": [
      "Исходный массив: \n",
      "[-72, 37, 48, -44, 82, -5, -51, -37, -14, -66, -5, -77, -66, -90, 36, -60, -66, 73, -21, -64, -5, -42, 93, -98, 100, 97, 21, -91, 5, -74, -89, 25, 4, -61, 78, -25, -85, -58, -40, 64, -46, -14, 24, 40, -58, 1, 95, 85, -83, -85]\n",
      "Отсортированный массив: \n",
      "[-98, -91, -90, -89, -85, -85, -83, -77, -74, -72, -66, -66, -66, -64, -61, -60, -58, -58, -51, -46, -44, -42, -40, -37, -25, -21, -14, -14, -5, -5, -5, 1, 4, 5, 21, 24, 25, 36, 37, 40, 48, 64, 73, 78, 82, 85, 93, 95, 97, 100]\n"
     ]
    }
   ],
   "execution_count": 5
  },
  {
   "metadata": {},
   "cell_type": "markdown",
   "source": [
    "Отсортируйте по возрастанию методом слияния одномерный вещественный массив,\n",
    "заданный случайными числами на промежутке [0; 50). Выведите на экран исходный и\n",
    "отсортированный массивы."
   ],
   "id": "61215381fddec07c"
  },
  {
   "metadata": {
    "ExecuteTime": {
     "end_time": "2024-05-14T14:02:46.875746Z",
     "start_time": "2024-05-14T14:02:46.837222Z"
    }
   },
   "cell_type": "code",
   "source": [
    "def merge_sort(list_num):\n",
    "    if len(list_num) < 2:\n",
    "        return list_num[:]\n",
    "    def _merge(left, right):\n",
    "        result = []\n",
    "        i, j = 0, 0\n",
    "        while i < len(left) and j < len(right):\n",
    "            if left[i] < right[j]:\n",
    "                result.append(left[i])\n",
    "                i += 1\n",
    "            else:\n",
    "                result.append(right[j])\n",
    "                j += 1\n",
    "        while i < len(left):\n",
    "            result.append(left[i])\n",
    "            i += 1\n",
    "        while j < len(right):\n",
    "            result.append(right[j])\n",
    "            j += 1\n",
    "        return result\n",
    "    middle = int(len(list_num) / 2)\n",
    "    left = merge_sort(list_num[:middle])\n",
    "    right = merge_sort(list_num[middle:])\n",
    "    return _merge(left, right)\n",
    "\n",
    "list_num = gen_random_list(0, 50, 50)\n",
    "print('Исходный массив: ')\n",
    "print(list_num)\n",
    "result = merge_sort(list_num)\n",
    "print('Отсортированный массив: ')\n",
    "print(result)"
   ],
   "id": "839f0dcd6dbdd718",
   "outputs": [
    {
     "name": "stdout",
     "output_type": "stream",
     "text": [
      "Исходный массив: \n",
      "[2, 3, 25, 32, 24, 34, 2, 21, 2, 35, 26, 21, 13, 46, 17, 49, 38, 8, 38, 18, 30, 29, 10, 19, 47, 23, 8, 22, 42, 9, 46, 34, 0, 14, 24, 11, 31, 39, 18, 34, 28, 8, 43, 7, 12, 19, 18, 29, 19, 0]\n",
      "Отсортированный массив: \n",
      "[0, 0, 2, 2, 2, 3, 7, 8, 8, 8, 9, 10, 11, 12, 13, 14, 17, 18, 18, 18, 19, 19, 19, 21, 21, 22, 23, 24, 24, 25, 26, 28, 29, 29, 30, 31, 32, 34, 34, 34, 35, 38, 38, 39, 42, 43, 46, 46, 47, 49]\n"
     ]
    }
   ],
   "execution_count": 6
  },
  {
   "metadata": {},
   "cell_type": "markdown",
   "source": [
    "Массив размером 2m + 1, где m – натуральное число, заполнен случайным образом. Найдите\n",
    "в массиве медиану. Медианой называется элемент ряда, делящий его на две равные части: в\n",
    "одной находятся элементы, которые не меньше медианы, в другой – не больше медианы.\n",
    "Задачу можно решить без сортировки исходного массива. Но если это слишком сложно, то\n",
    "используйте метод сортировки, который не рассматривался на уроках."
   ],
   "id": "f8621bfb5486f61f"
  },
  {
   "metadata": {
    "ExecuteTime": {
     "end_time": "2024-05-14T14:02:47.017583Z",
     "start_time": "2024-05-14T14:02:46.998422Z"
    }
   },
   "cell_type": "code",
   "source": [
    "def list_distribtuion(list_num):\n",
    "    print('Исходный массив: ')\n",
    "    print(list_num)\n",
    "    \n",
    "    def _check_count(num, temp_list_num):\n",
    "        count_less = 0\n",
    "        count_better = 0\n",
    "        for cur in temp_list_num:\n",
    "            if cur > num:\n",
    "                count_better += 1\n",
    "            elif cur < num:\n",
    "                count_less += 1\n",
    "        return count_less == count_better\n",
    "    \n",
    "    for item in list_num:\n",
    "        if _check_count(item, list_num):\n",
    "            print(f'Медиана {item}')\n",
    "            break\n",
    "        \n",
    "m = 2\n",
    "list_num = gen_random_list(0, 10, 2*m+1)\n",
    "list_distribtuion(list_num)\n"
   ],
   "id": "9f55cd20d56643d2",
   "outputs": [
    {
     "name": "stdout",
     "output_type": "stream",
     "text": [
      "Исходный массив: \n",
      "[2, 0, 4, 7, 1]\n",
      "Медиана 2\n"
     ]
    }
   ],
   "execution_count": 7
  },
  {
   "metadata": {
    "ExecuteTime": {
     "end_time": "2024-05-14T14:02:47.078071Z",
     "start_time": "2024-05-14T14:02:47.068059Z"
    }
   },
   "cell_type": "code",
   "source": "",
   "id": "6e0fe0ece76ad830",
   "outputs": [],
   "execution_count": 7
  }
 ],
 "metadata": {
  "kernelspec": {
   "display_name": "Python 3",
   "language": "python",
   "name": "python3"
  },
  "language_info": {
   "codemirror_mode": {
    "name": "ipython",
    "version": 2
   },
   "file_extension": ".py",
   "mimetype": "text/x-python",
   "name": "python",
   "nbconvert_exporter": "python",
   "pygments_lexer": "ipython2",
   "version": "2.7.6"
  }
 },
 "nbformat": 4,
 "nbformat_minor": 5
}

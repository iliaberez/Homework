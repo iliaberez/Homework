{
 "cells": [
  {
   "metadata": {
    "ExecuteTime": {
     "end_time": "2024-05-14T13:25:21.448194Z",
     "start_time": "2024-05-14T13:25:21.430015Z"
    }
   },
   "cell_type": "code",
   "source": [
    "import random\n",
    "\n",
    "def sort_decorator(func):\n",
    "    def wrapper(*args, **kwargs):\n",
    "        print('Исходный массив: ')\n",
    "        print(*args)\n",
    "        result = func(*args, **kwargs)\n",
    "        print('Отсортированный массив: ')\n",
    "        print(result)\n",
    "    return wrapper\n",
    "\n",
    "def gen_random_list(start, end, count) -> list:\n",
    "    result_list = []\n",
    "    for _ in range(count):\n",
    "        result_list.append(random.randint(start, end))\n",
    "    return result_list"
   ],
   "id": "7cc669546cd28d39",
   "outputs": [],
   "execution_count": 4
  },
  {
   "metadata": {},
   "cell_type": "markdown",
   "source": [
    "Отсортируйте по убыванию методом пузырька одномерный целочисленный массив, заданный\n",
    "случайными числами на промежутке [-100; 100). Выведите на экран исходный и\n",
    "отсортированный массивы. Сортировка должна быть реализована в виде функции. По\n",
    "возможности доработайте алгоритм (сделайте его умнее)."
   ],
   "id": "f2c9b011d04572d3"
  },
  {
   "cell_type": "code",
   "id": "initial_id",
   "metadata": {
    "collapsed": true,
    "ExecuteTime": {
     "end_time": "2024-05-14T13:21:11.735705Z",
     "start_time": "2024-05-14T13:21:11.700917Z"
    }
   },
   "source": [
    "@sort_decorator\n",
    "def buble_sort(list_num):\n",
    "    n = 1\n",
    "    while n < len(list_num):\n",
    "        check_sort = True\n",
    "        for i in range(len(list_num)-n):\n",
    "            if list_num[i] > list_num[i+1]:\n",
    "                list_num[i],list_num[i+1] = list_num[i+1],list_num[i]\n",
    "                check_sort = False\n",
    "        if check_sort:\n",
    "            break\n",
    "        n += 1\n",
    "    return list_num\n",
    "\n",
    "list_num = gen_random_list(-100, 100, 50)\n",
    "buble_sort(list_num)"
   ],
   "outputs": [
    {
     "name": "stdout",
     "output_type": "stream",
     "text": [
      "Исходный массив: \n",
      "[-100, 21, 25, 14, -30, -1, -45, 52, 88, 9, 55, -67, -37, -71, 86, -49, 3, 38, 95, -56, -35, -96, 64, -79, 31, 74, -45, 27, -84, -7, -35, -4, -65, -14, -100, -92, 86, -39, 61, 81, 96, -64, -82, 29, -67, -75, 15, -40, -42, 90]\n",
      "Отсортированный массив: \n",
      "[-100, -100, -96, -92, -84, -82, -79, -75, -71, -67, -67, -65, -64, -56, -49, -45, -45, -42, -40, -39, -37, -35, -35, -30, -14, -7, -4, -1, 3, 9, 14, 15, 21, 25, 27, 29, 31, 38, 52, 55, 61, 64, 74, 81, 86, 86, 88, 90, 95, 96]\n"
     ]
    }
   ],
   "execution_count": 2
  },
  {
   "metadata": {},
   "cell_type": "markdown",
   "source": [
    "Отсортируйте по возрастанию методом слияния одномерный вещественный массив,\n",
    "заданный случайными числами на промежутке [0; 50). Выведите на экран исходный и\n",
    "отсортированный массивы."
   ],
   "id": "61215381fddec07c"
  },
  {
   "metadata": {
    "ExecuteTime": {
     "start_time": "2024-05-14T13:21:11.735705Z"
    }
   },
   "cell_type": "code",
   "source": [
    "@sort_decorator\n",
    "def merge_sort(list_num):\n",
    "    def _merge(left, right):\n",
    "        result = []\n",
    "        i, j = 0, 0\n",
    "        while i < len(left) and j < len(right):\n",
    "            if left[i] < right[j]:\n",
    "                result.append(left[i])\n",
    "                i += 1\n",
    "            else:\n",
    "                result.append(right[j])\n",
    "                j += 1\n",
    "        while i < len(left):\n",
    "            result.append(left[i])\n",
    "            i += 1\n",
    "        while j < len(right):\n",
    "            result.append(right[j])\n",
    "            j += 1\n",
    "        return result\n",
    "    middle = int(len(list_num) / 2)\n",
    "    left = merge_sort(list_num[:middle])\n",
    "    right = merge_sort(list_num[middle:])\n",
    "    return _merge(left, right)\n",
    "\n",
    "list_num = gen_random_list(0, 50, 50)\n",
    "merge_sort(list_num)\n"
   ],
   "id": "839f0dcd6dbdd718",
   "outputs": [],
   "execution_count": null
  },
  {
   "metadata": {},
   "cell_type": "markdown",
   "source": [
    "Массив размером 2m + 1, где m – натуральное число, заполнен случайным образом. Найдите\n",
    "в массиве медиану. Медианой называется элемент ряда, делящий его на две равные части: в\n",
    "одной находятся элементы, которые не меньше медианы, в другой – не больше медианы.\n",
    "Задачу можно решить без сортировки исходного массива. Но если это слишком сложно, то\n",
    "используйте метод сортировки, который не рассматривался на уроках."
   ],
   "id": "f8621bfb5486f61f"
  },
  {
   "metadata": {
    "ExecuteTime": {
     "end_time": "2024-05-14T13:52:01.126957Z",
     "start_time": "2024-05-14T13:52:01.095717Z"
    }
   },
   "cell_type": "code",
   "source": [
    "def list_distribtuion(list_num):\n",
    "    print('Исходный массив: ')\n",
    "    print(list_num)\n",
    "    \n",
    "    def _check_count(num, temp_list_num):\n",
    "        count_less = 0\n",
    "        count_better = 0\n",
    "        for cur in temp_list_num:\n",
    "            if cur > num:\n",
    "                count_better += 1\n",
    "            elif cur < num:\n",
    "                count_less += 1\n",
    "        return count_less == count_better\n",
    "    \n",
    "    for item in list_num:\n",
    "        if _check_count(item, list_num):\n",
    "            print(f'Медиана {item}')\n",
    "            break\n",
    "        \n",
    "m = 2\n",
    "list_num = gen_random_list(0, 10, 2*m+1)\n",
    "list_distribtuion(list_num)\n"
   ],
   "id": "9f55cd20d56643d2",
   "outputs": [
    {
     "name": "stdout",
     "output_type": "stream",
     "text": [
      "Исходный массив: \n",
      "[9, 2, 10, 1, 0]\n",
      "Медиана 2\n"
     ]
    }
   ],
   "execution_count": 29
  },
  {
   "metadata": {},
   "cell_type": "code",
   "outputs": [],
   "execution_count": null,
   "source": "",
   "id": "6e0fe0ece76ad830"
  }
 ],
 "metadata": {
  "kernelspec": {
   "display_name": "Python 3",
   "language": "python",
   "name": "python3"
  },
  "language_info": {
   "codemirror_mode": {
    "name": "ipython",
    "version": 2
   },
   "file_extension": ".py",
   "mimetype": "text/x-python",
   "name": "python",
   "nbconvert_exporter": "python",
   "pygments_lexer": "ipython2",
   "version": "2.7.6"
  }
 },
 "nbformat": 4,
 "nbformat_minor": 5
}
